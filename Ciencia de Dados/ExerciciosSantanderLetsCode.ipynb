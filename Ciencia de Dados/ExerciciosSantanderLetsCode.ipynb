{
 "cells": [
  {
   "cell_type": "markdown",
   "id": "5e620f31",
   "metadata": {},
   "source": [
    "# Exercícios Módulo 1 - Python"
   ]
  },
  {
   "cell_type": "markdown",
   "id": "98cfca72",
   "metadata": {},
   "source": [
    "# 1 Faça um programa que peça um valor monetário e diminua-o em 15%. \n",
    "# Seu programa deve imprimir a mensagem “O novo valor é [valor]”."
   ]
  },
  {
   "cell_type": "code",
   "execution_count": null,
   "id": "283f7b82",
   "metadata": {},
   "outputs": [],
   "source": [
    "entrada = float(input(\"Digite um valor monetário \\n\"))\n",
    "print(f\"O novo valor é {entrada - ((entrada/100) * 15)}\")"
   ]
  },
  {
   "cell_type": "markdown",
   "id": "11dbc9ee",
   "metadata": {},
   "source": [
    "# 2 Faça um programa que leia a validade das informações:\n",
    "## a. Idade: entre 0 e 150;\n",
    "## b. Salário: maior que 0;\n",
    "## c. Sexo: M, F ou Outro;\n",
    "\n",
    "### O programa deve imprimir uma mensagem de erro para cada informação inválida."
   ]
  },
  {
   "cell_type": "code",
   "execution_count": null,
   "id": "866abb9c",
   "metadata": {
    "scrolled": false
   },
   "outputs": [],
   "source": [
    "import re\n",
    "idade = int(input())\n",
    "if (idade >= 0 and idade <= 150):\n",
    "    print(\"Inserção válida\")\n",
    "else:\n",
    "    print(\"Inseriu idade inválida, insira um numero entre 0 e 150\")\n",
    "\n",
    "salario = int(input())\n",
    "if (salario >= 0):\n",
    "    print(\"Inserção válida\")\n",
    "else:\n",
    "    print(\"Inseriu salário inválido, insira um numero maior que 0\")\n",
    "     \n",
    "sexo = input()\n",
    "if (re.search(\"^[A-Z]$\", sexo)):\n",
    "    print(\"Inserção válida\")\n",
    "else:\n",
    "    print(\"Inseriu sexo inválido, insira uma letra, M, F ou Outro\")\n"
   ]
  },
  {
   "cell_type": "markdown",
   "id": "75f6ff5c",
   "metadata": {},
   "source": [
    "# 3 Vamos fazer um programa para verificar quem é o assassino de um crime. Para descobrir o assassino, a polícia faz um pequeno questionário com 5 perguntas onde a resposta só pode ser sim ou não:\n",
    "## a.Mora perto da vítima?\n",
    "## b.Já trabalhou com a vítima?\n",
    "## c.Telefonou para a vítima?\n",
    "## d.Esteve no local do crime?\n",
    "## e.Devia para a vítima?\n",
    "# Cada resposta sim dá um ponto para o suspeito. A polícia considera que os suspeitos com 5 pontos são os assassinos, com 4 a 3 pontos são cúmplices e 2 pontos são apenas suspeitos, necessitando outras investigações. Valores iguais ou abaixo de 1 são liberados."
   ]
  },
  {
   "cell_type": "code",
   "execution_count": 29,
   "id": "81012813",
   "metadata": {},
   "outputs": [
    {
     "name": "stdout",
     "output_type": "stream",
     "text": [
      "Mora perto da vítima?sim\n",
      "Já trabalhou com a vítima?sim\n",
      "Telefonou para a vítima?sim\n",
      "Esteve no local do crime?sim\n",
      "Devia para a vítima?sim\n",
      "Encontramos o assassino\n"
     ]
    }
   ],
   "source": [
    "lista = []\n",
    "\n",
    "lista.append(input(\"Mora perto da vítima?\"))\n",
    "lista.append(input(\"Já trabalhou com a vítima?\"))\n",
    "lista.append(input(\"Telefonou para a vítima?\"))\n",
    "lista.append(input(\"Esteve no local do crime?\"))\n",
    "lista.append(input(\"Devia para a vítima?\"))\n",
    "\n",
    "quantidade = lista.count('sim')\n",
    "\n",
    "if quantidade == 5:\n",
    "    print(\"Encontramos o assassino\")\n",
    "elif quantidade == 4 or quantidade == 3:\n",
    "    print(\"Cúmplice\")\n",
    "elif quantidade == 2:\n",
    "    print(\"Suspeito hein\")\n",
    "else:\n",
    "    print(\"Está liberado\")"
   ]
  },
  {
   "cell_type": "markdown",
   "id": "19dcb145",
   "metadata": {},
   "source": [
    "# Faça um programa que imprima a tabuada do 9 (de 9*1 a 9*10) usando loops."
   ]
  },
  {
   "cell_type": "code",
   "execution_count": 28,
   "id": "8c801b9a",
   "metadata": {},
   "outputs": [
    {
     "name": "stdout",
     "output_type": "stream",
     "text": [
      "9 * 1 = 9\n",
      "9 * 2 = 18\n",
      "9 * 3 = 27\n",
      "9 * 4 = 36\n",
      "9 * 5 = 45\n",
      "9 * 6 = 54\n",
      "9 * 7 = 63\n",
      "9 * 8 = 72\n",
      "9 * 9 = 81\n",
      "9 * 10 = 90\n"
     ]
    }
   ],
   "source": [
    "for i in range(10):\n",
    "    print(f'9 * {i + 1} = {9*(i + 1)}', end='\\n')"
   ]
  },
  {
   "cell_type": "markdown",
   "id": "ef83c755",
   "metadata": {},
   "source": [
    "# Exercícios Módulo 2 - Python"
   ]
  },
  {
   "cell_type": "markdown",
   "id": "01d7d3e4",
   "metadata": {},
   "source": [
    "# 1 Faça um programa que olhe todos os itens de uma lista e diga quantos deles são pares."
   ]
  },
  {
   "cell_type": "code",
   "execution_count": 31,
   "id": "86a7a2ed",
   "metadata": {
    "scrolled": true
   },
   "outputs": [
    {
     "name": "stdout",
     "output_type": "stream",
     "text": [
      "Existem 5 numeros pares no intervalo entre 1 a 10\n"
     ]
    }
   ],
   "source": [
    "lista = []\n",
    "\n",
    "for i in range(10):\n",
    "    lista.append( i + 1 )\n",
    "    \n",
    "quantidade_de_pares = 0\n",
    "for i in range(len(lista)):\n",
    "    if lista[i] % 2 == 0:\n",
    "        quantidade_de_pares += 1\n",
    "        \n",
    "print(f'Existem {quantidade_de_pares} numeros pares no intervalo entre 1 a 10')"
   ]
  },
  {
   "cell_type": "markdown",
   "id": "61c78aff",
   "metadata": {},
   "source": [
    "# 2 Faça um programa que peça para o usuário digitar uma palavra e imprima cada letra em uma linha."
   ]
  },
  {
   "cell_type": "code",
   "execution_count": 42,
   "id": "c2a43a3c",
   "metadata": {},
   "outputs": [
    {
     "name": "stdout",
     "output_type": "stream",
     "text": [
      "Digite uma palavra Dirceu\n",
      "D\n",
      "\n",
      "i\n",
      "\n",
      "r\n",
      "\n",
      "c\n",
      "\n",
      "e\n",
      "\n",
      "u\n",
      "\n"
     ]
    }
   ],
   "source": [
    "palavra = input(\"Digite uma palavra \")\n",
    "for i in palavra:\n",
    "    print(f'{i}\\n')"
   ]
  },
  {
   "cell_type": "markdown",
   "id": "5ab49b35",
   "metadata": {},
   "source": [
    "# 3 Faça uma função que recebe duas listas e retorna a soma item a item dessas listas.\n",
    "## Exemplo: Se a função receber as listas [1,4,3] e [3,5,1], então a função deve retornar [1+3, 4+5, 3+1] = [4, 9, 4]."
   ]
  },
  {
   "cell_type": "code",
   "execution_count": 76,
   "id": "ebb4d964",
   "metadata": {},
   "outputs": [
    {
     "name": "stdout",
     "output_type": "stream",
     "text": [
      "[4, 4, 4]\n"
     ]
    }
   ],
   "source": [
    "def soma_de_listas(lista1, lista2):\n",
    "    lista_somada = []\n",
    "    for i in range(len(lista1)):\n",
    "        lista_somada.append(lista1[i] + lista2[i])\n",
    "    return lista_somada\n",
    "\n",
    "lista1 = [1, 2, 3]\n",
    "lista2 = [3, 2, 1]\n",
    "lista3 = soma_de_listas(lista1, lista2)\n",
    "print(lista3)"
   ]
  }
 ],
 "metadata": {
  "kernelspec": {
   "display_name": "Python 3 (ipykernel)",
   "language": "python",
   "name": "python3"
  },
  "language_info": {
   "codemirror_mode": {
    "name": "ipython",
    "version": 3
   },
   "file_extension": ".py",
   "mimetype": "text/x-python",
   "name": "python",
   "nbconvert_exporter": "python",
   "pygments_lexer": "ipython3",
   "version": "3.8.5"
  }
 },
 "nbformat": 4,
 "nbformat_minor": 5
}
